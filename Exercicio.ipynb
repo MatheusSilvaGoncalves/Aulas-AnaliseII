{
 "cells": [
  {
   "cell_type": "markdown",
   "metadata": {},
   "source": [
    "## Exercício\n",
    "Este arquivo contém um código completo para resolução de pórticos planos, partindo desde a definição da estrutura até o cálculo de esforços em cada elemento. Vale ressaltar que o código é genérico, podendo ser usado para calcular qualquer pórtico plano que se tenha interesse. Basta para isso alterar as informações de entrada, como coordenadas e propriedades de cada seção.\n",
    "\n",
    "O processo inicia com a definição do número de nós, elementos e suas coordenadas, além da importação dos pacotes necessários para rodar o código em python:"
   ]
  },
  {
   "cell_type": "code",
   "execution_count": 77,
   "metadata": {},
   "outputs": [],
   "source": [
    "import numpy as np\n",
    "from pylab import *\n",
    "import matplotlib.pyplot as plt\n",
    "\n",
    "#Dados do problema \"Pórticos: EXEMPLO 02\" da lista\n",
    "\n",
    "n_nos=3 #Número de nós\n",
    "n_el=2 #Número de elementos\n",
    "# número de cada nó e coordenadas x e y dos mesmos\n",
    "no = [1,       2,       3       ]\n",
    "x  = [0,       8,       13       ]\n",
    "y  = [0,       0,       0       ]\n"
   ]
  },
  {
   "cell_type": "code",
   "execution_count": 78,
   "metadata": {},
   "outputs": [
    {
     "data": {
      "text/html": [
       "<script>\n",
       "code_show=true; \n",
       "function code_toggle() {\n",
       "    if (code_show){\n",
       "        $('div.cell.code_cell.rendered.selected div.input').hide();\n",
       "    } else {\n",
       "        $('div.cell.code_cell.rendered.selected div.input').show();\n",
       "    }\n",
       "    code_show = !code_show\n",
       "} \n",
       "$( document ).ready(code_toggle);\n",
       "</script>\n",
       "To show/hide this cell's raw code input, click <a href=\"javascript:code_toggle()\">here</a>."
      ],
      "text/plain": [
       "<IPython.core.display.HTML object>"
      ]
     },
     "metadata": {},
     "output_type": "display_data"
    },
    {
     "data": {
      "image/png": "[encoded data removed]",
      "text/plain": [
       "<Figure size 432x288 with 1 Axes>"
      ]
     },
     "metadata": {
      "needs_background": "light"
     },
     "output_type": "display_data"
    }
   ],
   "source": [
    "from IPython.display import display, Math, HTML\n",
    "\n",
    "tag = HTML('''<script>\n",
    "code_show=true; \n",
    "function code_toggle() {\n",
    "    if (code_show){\n",
    "        $('div.cell.code_cell.rendered.selected div.input').hide();\n",
    "    } else {\n",
    "        $('div.cell.code_cell.rendered.selected div.input').show();\n",
    "    }\n",
    "    code_show = !code_show\n",
    "} \n",
    "$( document ).ready(code_toggle);\n",
    "</script>\n",
    "To show/hide this cell's raw code input, click <a href=\"javascript:code_toggle()\">here</a>.''')\n",
    "display(tag)\n",
    "\n",
    "#Código apenas para geração da imagem\n",
    "fig = plt.figure()\n",
    "ax = fig.add_subplot(111)\n",
    "\n",
    "lines = plt.plot(x,y,'ro')\n",
    "for i in no:\n",
    "    plt.annotate(str(no[i-1]), xy=(x[i-1], y[i-1]), xytext=(x[i-1], y[i-1]))\n",
    "\n",
    "title('Coordenadas da estrutura')\n",
    "grid()\n",
    "\n",
    "show()"
   ]
  },
  {
   "cell_type": "markdown",
   "metadata": {},
   "source": [
    "O próximo passo é a definição da matriz de conectividade da estrutura, responsável pela definição dos elementos e suas propriedades. Essa matriz possui uma linha para cada elemento, sendo que cada coluna indica, respectivamente: número do elemento, número da seção transversal do mesmo (que define suas propriedades), primeiro nó e segundo nó do elemento. \n",
    "\n",
    "As propriedades são definidas por uma matriz, que possui uma linha para cada seção distinta na estrutura. A primeira coluna indica o número da seção, a segunda a área da seção transversal, a terceira o módulo de elasticidade, a quarta o momento de inércia e a quinta a distância vertical entre a extremidade e a linha neutra. Vale ressaltar que essas propriedades são necessárias para pórticos planos, porém para outros casos, como pórticos espaciais, outras propriedades adicionais podem ser necessárias."
   ]
  },
  {
   "cell_type": "code",
   "execution_count": 79,
   "metadata": {},
   "outputs": [],
   "source": [
    "# Matriz de conectividade: [elemento, Número da seção, primeiro nó, segundo nó]\n",
    "conec = np.matrix([[1,   1,   0,   1],\n",
    "                  [2,   1,   1,   2]])\n",
    "\n",
    "n_sec=2 # Número de seções distintas presentes na estrutura\n",
    "b1=.12 #Base 1\n",
    "h1=.40 #Altura 1\n",
    "b2=b1 #Base 2\n",
    "h2=h1 #Altura 2\n",
    "\n",
    "# Matriz de Seções: [número da seção, área, módulo de elasticidade, momento de inércia, \n",
    "# distância vertical à linha neutra]\n",
    "secoes = np.matrix([[1, b1*h1, 50e9, b1*h1**3/12, h1/2],\n",
    "                    [2, b2*h2, 50e9, b2*h2**3/12, h2/2]])"
   ]
  },
  {
   "cell_type": "code",
   "execution_count": 80,
   "metadata": {},
   "outputs": [
    {
     "data": {
      "text/html": [
       "<script>\n",
       "code_show=true; \n",
       "function code_toggle() {\n",
       "    if (code_show){\n",
       "        $('div.cell.code_cell.rendered.selected div.input').hide();\n",
       "    } else {\n",
       "        $('div.cell.code_cell.rendered.selected div.input').show();\n",
       "    }\n",
       "    code_show = !code_show\n",
       "} \n",
       "$( document ).ready(code_toggle);\n",
       "</script>\n",
       "To show/hide this cell's raw code input, click <a href=\"javascript:code_toggle()\">here</a>."
      ],
      "text/plain": [
       "<IPython.core.display.HTML object>"
      ]
     },
     "metadata": {},
     "output_type": "display_data"
    },
    {
     "data": {
      "image/png": "[encoded data removed]",
      "text/plain": [
       "<Figure size 432x288 with 1 Axes>"
      ]
     },
     "metadata": {
      "needs_background": "light"
     },
     "output_type": "display_data"
    }
   ],
   "source": [
    "tag = HTML('''<script>\n",
    "code_show=true; \n",
    "function code_toggle() {\n",
    "    if (code_show){\n",
    "        $('div.cell.code_cell.rendered.selected div.input').hide();\n",
    "    } else {\n",
    "        $('div.cell.code_cell.rendered.selected div.input').show();\n",
    "    }\n",
    "    code_show = !code_show\n",
    "} \n",
    "$( document ).ready(code_toggle);\n",
    "</script>\n",
    "To show/hide this cell's raw code input, click <a href=\"javascript:code_toggle()\">here</a>.''')\n",
    "display(tag)\n",
    "\n",
    "#Apenas para plotagem da figura\n",
    "fig = plt.figure()\n",
    "ax = fig.add_subplot(111)\n",
    "\n",
    "lines = plt.plot(x,y,'ro')\n",
    "for i in no:\n",
    "    plt.annotate(str(no[i-1]), xy=(x[i-1], y[i-1]), xytext=(x[i-1], y[i-1]))\n",
    "\n",
    "for i in range(n_el):\n",
    "    plt.plot([x[conec[i,2]], x[conec[i,3]]],[y[conec[i,2]], y[conec[i,3]]],'k')\n",
    "    plt.annotate('Elemento ' +str(i+1)+'=>secao:'+str(conec[i,1]), xy=((x[conec[i,2]]+x[conec[i,3]])/2, (y[conec[i,2]]+y[conec[i,3]])/2),\n",
    "                 xytext=((x[conec[i,2]]+x[conec[i,3]])/2, (y[conec[i,2]]+y[conec[i,3]])/2),color='r')\n",
    "title('Elementos da estrutura')\n",
    "grid()\n",
    "\n",
    "show()"
   ]
  },
  {
   "cell_type": "markdown",
   "metadata": {},
   "source": [
    "O próximo passo é definir o carregamento. Esta definição se dá em duas etapas:\n",
    "\n",
    "    1 - Carregamento nodal: aquele que ocorre diretamente em um nó da estrutura\n",
    "    2 - Carregamento equivalente: carregamentos distribuídos ou concentrados em pontos diferentes dos nós\n",
    "\n",
    "A seguir tem-se o caso das forças nodais, onde uma matriz é utilizada para definir as informações necessárias. Para cada nó em que ao menos uma força nodal atua tem-se uma linha nessa matriz. A primeira coluna refere-se ao nó carregado, a segunda ao carregamento na direção x, a terceira em y e a quarta ao momento. Vale a pena ressaltar que é possível que apenas uma força atue em um nó, o que é indicado pelo valor zero nas demais forças."
   ]
  },
  {
   "cell_type": "code",
   "execution_count": 81,
   "metadata": {},
   "outputs": [],
   "source": [
    "# Carregamentos nodais\n",
    "n_forcas=0 #Número de nós na qual atuam forças\n",
    "#Matriz de forças [nó (primeiro nó é o nó zero e não 1), força em x, força em y, momento]\n",
    "forcas=np.matrix([])"
   ]
  },
  {
   "cell_type": "code",
   "execution_count": 82,
   "metadata": {
    "scrolled": true
   },
   "outputs": [
    {
     "data": {
      "text/html": [
       "<script>\n",
       "code_show=true; \n",
       "function code_toggle() {\n",
       "    if (code_show){\n",
       "        $('div.cell.code_cell.rendered.selected div.input').hide();\n",
       "    } else {\n",
       "        $('div.cell.code_cell.rendered.selected div.input').show();\n",
       "    }\n",
       "    code_show = !code_show\n",
       "} \n",
       "$( document ).ready(code_toggle);\n",
       "</script>\n",
       "To show/hide this cell's raw code input, click <a href=\"javascript:code_toggle()\">here</a>."
      ],
      "text/plain": [
       "<IPython.core.display.HTML object>"
      ]
     },
     "metadata": {},
     "output_type": "display_data"
    },
    {
     "data": {
      "image/png": "[encoded data removed]",
      "text/plain": [
       "<Figure size 432x288 with 1 Axes>"
      ]
     },
     "metadata": {
      "needs_background": "light"
     },
     "output_type": "display_data"
    }
   ],
   "source": [
    "tag = HTML('''<script>\n",
    "code_show=true; \n",
    "function code_toggle() {\n",
    "    if (code_show){\n",
    "        $('div.cell.code_cell.rendered.selected div.input').hide();\n",
    "    } else {\n",
    "        $('div.cell.code_cell.rendered.selected div.input').show();\n",
    "    }\n",
    "    code_show = !code_show\n",
    "} \n",
    "$( document ).ready(code_toggle);\n",
    "</script>\n",
    "To show/hide this cell's raw code input, click <a href=\"javascript:code_toggle()\">here</a>.''')\n",
    "display(tag)\n",
    "\n",
    "from pylab import *\n",
    "\n",
    "#Apenas para plotagem da figura\n",
    "fig = plt.figure()\n",
    "ax = fig.add_subplot(111)\n",
    "\n",
    "lines = plt.plot(x,y,'ro')\n",
    "for i in no:\n",
    "    plt.annotate(str(no[i-1]), xy=(x[i-1], y[i-1]), xytext=(x[i-1], y[i-1]))\n",
    "l = max(abs(x[1]-x[0]),abs(y[1]-y[0]))\n",
    "j = 0\n",
    "if n_forcas != 0:\n",
    "    for i in forcas[:,0]:\n",
    "        if int(forcas[j,1]) != 0:\n",
    "            arrow( x[int(i)]-np.sign(forcas[j,1])*0.25*l, y[int(i)],np.sign(forcas[j,1])*0.25*l,0,\n",
    "                  length_includes_head = True, head_width = l*0.05 )\n",
    "            plt.annotate('Fx='+str(forcas[j,1]), xy=(x[int(i)]-np.sign(forcas[j,1])*0.25*l, y[int(i)]),\n",
    "                     xytext=(x[int(i)]-np.sign(forcas[j,1])*0.25*l, y[int(i)]),color='r')\n",
    "        if int(forcas[j,2]) != 0:\n",
    "            arrow( x[int(i)], y[int(i)]-np.sign(forcas[j,2])*0.25*l,0,np.sign(forcas[j,2])*0.25*l,\n",
    "                  length_includes_head = True, head_width = l*0.05 )\n",
    "            plt.annotate('Fy='+str(forcas[j,2]), xy=(x[int(i)], y[int(i)]-np.sign(forcas[j,2])*0.25*l),\n",
    "                     xytext=(x[int(i)], y[int(i)]-np.sign(forcas[j,2])*0.25*l),color='r')\n",
    "        if int(forcas[j,3]) != 0:\n",
    "            circle1 = plt.Circle((x[int(i)], y[int(i)]), 0.1*l, color='r', fill=False)\n",
    "            ax.add_artist(circle1)\n",
    "            plt.annotate('Mz='+str(forcas[j,3]), xy=(x[int(i)]-np.sign(forcas[j,3])*0.125*l, \n",
    "                    y[int(i)]-np.sign(forcas[j,3])*0.125*l),xytext=(x[int(i)]-np.sign(forcas[j,3])*0.125*l, \n",
    "                    y[int(i)]-np.sign(forcas[j,3])*0.125*l),color='r')\n",
    "\n",
    "\n",
    "        j = j+1\n",
    "\n",
    "for i in range(n_el):\n",
    "    plt.plot([x[conec[i,2]], x[conec[i,3]]],[y[conec[i,2]], y[conec[i,3]]],'k')    \n",
    "\n",
    "left, right = xlim()\n",
    "lower, upper = ylim()\n",
    "xlim((left-0.25*l,right+0.25*l))\n",
    "ylim((lower-0.25*l,upper+0.25*l))\n",
    "title(u\"Forças nodais\")\n",
    "grid()\n",
    "\n",
    "show()"
   ]
  },
  {
   "cell_type": "markdown",
   "metadata": {},
   "source": [
    "Já para as forças equivalentes, é preciso ter claro quais os casos que serão adotados. Aqui dois tipos de carregamentos são levados em consideração: carregamento uniformemente distribuído e força concentrada entre nós, ambos perpendiculares ao elemento.\n",
    "\n",
    "Novamente, uma matriz é utilizada para definir os carregamentos equivalentes. Para cada carregamento corresponde uma linha na matriz, sendo as colunas usadas para informar o elemento carregado, o tipo de carregamento equivalente, a intensidade e a posição (para o caso de carregamento concentrado entre nós), respectivamente. Como já comentado, dois tipos são considerados aqui. O tipo 1 refere-se ao carregamento distribuído, enquanto o tipo 2 dis respeito à força concentrada entre nós."
   ]
  },
  {
   "cell_type": "code",
   "execution_count": 83,
   "metadata": {},
   "outputs": [],
   "source": [
    "# Carregamentos equivalentes\n",
    "n_eq=2 # número de elementos que contem carregamentos equivalentes\n",
    "# Matriz de carregamento equivalente = [elemento (primeiro elemento é o elemento zero e não 1),\n",
    "# tipo de carregamento, intensidade, posição (para o caso de carregamento concentrado entre nós)]\n",
    "w_eq=np.matrix([[0, 1, -2e3, 0],\n",
    "                [1, 2, -20e3, 2]])\n"
   ]
  },
  {
   "cell_type": "code",
   "execution_count": 84,
   "metadata": {},
   "outputs": [
    {
     "data": {
      "text/html": [
       "<script>\n",
       "code_show=true; \n",
       "function code_toggle() {\n",
       "    if (code_show){\n",
       "        $('div.cell.code_cell.rendered.selected div.input').hide();\n",
       "    } else {\n",
       "        $('div.cell.code_cell.rendered.selected div.input').show();\n",
       "    }\n",
       "    code_show = !code_show\n",
       "} \n",
       "$( document ).ready(code_toggle);\n",
       "</script>\n",
       "To show/hide this cell's raw code input, click <a href=\"javascript:code_toggle()\">here</a>."
      ],
      "text/plain": [
       "<IPython.core.display.HTML object>"
      ]
     },
     "metadata": {},
     "output_type": "display_data"
    },
    {
     "data": {
      "image/png": "[encoded data removed]",
      "text/plain": [
       "<Figure size 432x288 with 1 Axes>"
      ]
     },
     "metadata": {
      "needs_background": "light"
     },
     "output_type": "display_data"
    }
   ],
   "source": [
    "tag = HTML('''<script>\n",
    "code_show=true; \n",
    "function code_toggle() {\n",
    "    if (code_show){\n",
    "        $('div.cell.code_cell.rendered.selected div.input').hide();\n",
    "    } else {\n",
    "        $('div.cell.code_cell.rendered.selected div.input').show();\n",
    "    }\n",
    "    code_show = !code_show\n",
    "} \n",
    "$( document ).ready(code_toggle);\n",
    "</script>\n",
    "To show/hide this cell's raw code input, click <a href=\"javascript:code_toggle()\">here</a>.''')\n",
    "display(tag)\n",
    "\n",
    "#Apenas para plotagem da figura\n",
    "import matplotlib.patches as mpatches\n",
    "\n",
    "fig = plt.figure()\n",
    "ax = fig.add_subplot(111)\n",
    "\n",
    "lines = plt.plot(x,y,'ro')\n",
    "for i in no:\n",
    "    plt.annotate(str(no[i-1]), xy=(x[i-1], y[i-1]), xytext=(x[i-1], y[i-1]))\n",
    "for i in range(n_el):\n",
    "    plt.plot([x[conec[i,2]], x[conec[i,3]]],[y[conec[i,2]], y[conec[i,3]]],'k')\n",
    "    \n",
    "if n_eq != 0:\n",
    "    j = 0\n",
    "    for i in w_eq[:,0]:\n",
    "        if w_eq[j,1]==1:\n",
    "            fig1 = plt.plot([x[conec[int(i),2]], x[conec[int(i),3]]],[y[conec[int(i),2]], y[conec[int(i),3]]],'r')\n",
    "        elif w_eq[j,1]==2:\n",
    "            fig2 = plt.plot([x[conec[int(i),2]], x[conec[int(i),3]]],[y[conec[int(i),2]], y[conec[int(i),3]]],'b')\n",
    "        j = j + 1\n",
    "\n",
    "red_patch = mpatches.Patch(color='red', label=u'Elementos carregamento tipo 1')\n",
    "blue_patch = mpatches.Patch(color='blue', label=u'Elementos carregamento tipo 2')\n",
    "plt.legend(handles=[red_patch,blue_patch])\n",
    "\n",
    "\n",
    "    \n",
    "title(u'Elementos da estrutura')\n",
    "grid()\n",
    "\n",
    "show()"
   ]
  },
  {
   "cell_type": "markdown",
   "metadata": {},
   "source": [
    "Por fim, resta definir as condições de contorno do problema. Para isso, uma matriz com número de linhas igual ao número de nós com restrição deve ser informada. Já para as colunas, a primeira indica o número do nó restringido e as três colunas seguintes referem-se aos graus de liberdade x, y e rotação desse nó, respectivamente. Caso apresente valor 1, isso indica que o respectivo GDL desse nó está restringido, caso seja zero, o GDL está liberado. Vale ressaltar que caso um nó não apresente restrições, ele não deve ser incluído na matriz."
   ]
  },
  {
   "cell_type": "code",
   "execution_count": 85,
   "metadata": {},
   "outputs": [],
   "source": [
    "# Apoios\n",
    "n_rest=3  #número de nós restringidos\n",
    "#Matriz de condições de contorno \n",
    "# [número do nó (primeiro nó é o nó zero e não 1), \n",
    "# restringido_x, restringido_y, restringido_theta] (1 para restringido, e 0 para livre)\n",
    "GDL_rest=np.matrix([[0, 0, 1, 0],\n",
    "                    [1, 0, 1, 0],\n",
    "                    [2, 1, 1, 1]])  \n"
   ]
  },
  {
   "cell_type": "markdown",
   "metadata": {},
   "source": [
    "Essa matriz de condições de contorno indica que os seguintes nós e graus de liberdade estão restringidos: "
   ]
  },
  {
   "cell_type": "code",
   "execution_count": 86,
   "metadata": {},
   "outputs": [
    {
     "data": {
      "text/html": [
       "<script>\n",
       "code_show=true; \n",
       "function code_toggle() {\n",
       "    if (code_show){\n",
       "        $('div.cell.code_cell.rendered.selected div.input').hide();\n",
       "    } else {\n",
       "        $('div.cell.code_cell.rendered.selected div.input').show();\n",
       "    }\n",
       "    code_show = !code_show\n",
       "} \n",
       "$( document ).ready(code_toggle);\n",
       "</script>\n",
       "To show/hide this cell's raw code input, click <a href=\"javascript:code_toggle()\">here</a>."
      ],
      "text/plain": [
       "<IPython.core.display.HTML object>"
      ]
     },
     "metadata": {},
     "output_type": "display_data"
    },
    {
     "data": {
      "text/latex": [
       "$$\\begin{align*}No1: y=fixo,\\\\No2: y=fixo,\\\\No3: x=fixo, y=fixo, rotacao=fixo,\\\\\\end{align*}$$"
      ],
      "text/plain": [
       "<IPython.core.display.Math object>"
      ]
     },
     "metadata": {},
     "output_type": "display_data"
    }
   ],
   "source": [
    "tag = HTML('''<script>\n",
    "code_show=true; \n",
    "function code_toggle() {\n",
    "    if (code_show){\n",
    "        $('div.cell.code_cell.rendered.selected div.input').hide();\n",
    "    } else {\n",
    "        $('div.cell.code_cell.rendered.selected div.input').show();\n",
    "    }\n",
    "    code_show = !code_show\n",
    "} \n",
    "$( document ).ready(code_toggle);\n",
    "</script>\n",
    "To show/hide this cell's raw code input, click <a href=\"javascript:code_toggle()\">here</a>.''')\n",
    "display(tag)\n",
    "\n",
    "txt = r'\\begin{align*}'\n",
    "j = 0\n",
    "for i in GDL_rest[:,0]:\n",
    "    txt = txt + 'No' + str(GDL_rest[j,0]+1) + ':'\n",
    "    if GDL_rest[j,1] == 1:\n",
    "        txt = txt+' x=fixo,'\n",
    "    if GDL_rest[j,2] == 1:\n",
    "        txt = txt+' y=fixo,'\n",
    "    if GDL_rest[j,3] == 1:\n",
    "        txt = txt+' rotacao=fixo,'\n",
    "    txt = txt+'\\\\\\\\'\n",
    "    j = j + 1\n",
    "txt = txt + '\\end{align*}'\n",
    "display(Math(txt))"
   ]
  },
  {
   "cell_type": "markdown",
   "metadata": {},
   "source": [
    "# Cálculo da estrutura\n",
    "\n",
    "Todas as informações necessárias para definição da estrutura já foram passadas. Assim, as próximas linhas de código são independentes do problema em questão.\n",
    "\n",
    "O cálculo da estrutura inicia pela matriz de rigidez da mesma, considerando a contribuição de um elemento por vez, conforme trecho de código a seguir:"
   ]
  },
  {
   "cell_type": "code",
   "execution_count": 87,
   "metadata": {},
   "outputs": [],
   "source": [
    "# CALCULO DA ESTRUTURA\n",
    "GDL=3*n_nos  #graus de liberdade da estrutura\n",
    "K=np.zeros((GDL,GDL)) #matriz rigidez global\n",
    "\n",
    "# Cálculo da matriz de cada elemento\n",
    "for el in range(n_el):\n",
    "    #calculo do comprimento do elemento el\n",
    "    no1=conec[el,2]\n",
    "    no2=conec[el,3]\n",
    "    #L=abs(x(no2)-x(no1))\n",
    "    L = np.sqrt((x[no2] - x[no1])**2 + (y[no2] - y[no1])**2)\n",
    "    #Propriedades\n",
    "    A = secoes[conec[el,1],1]\n",
    "    E = secoes[conec[el,1],2]\n",
    "    Iz = secoes[conec[el,1],3]\n",
    "    #Cossenos diretores a partir das coordenadas dos ns do elemento\n",
    "    c = (x[no2] - x[no1])/L\t# cosseno\n",
    "    s = (y[no2] - y[no1])/L\t#  seno\n",
    "    # Matriz de transformação do elemento \"el\"\n",
    "    T=np.matrix([[c, s, 0, 0, 0, 0],\n",
    "                [-s, c, 0, 0, 0, 0],\n",
    "                [0, 0, 1, 0, 0, 0],\n",
    "                [0, 0, 0, c, s, 0],\n",
    "                [0, 0, 0,-s, c, 0],\n",
    "                [0, 0, 0, 0, 0, 1]])\n",
    "    # Construo da matriz de rigidez em coordenadas locais\n",
    "    k1=E*A/L\n",
    "    k2=12*E*Iz/L**3\n",
    "    k3=6*E*Iz/L**2\n",
    "    k4=4*E*Iz/L\n",
    "    k5=k4/2\n",
    "    k=np.array([[k1, 0, 0, -k1, 0, 0],\n",
    "                [0, k2, k3, 0, -k2, k3],\n",
    "                [0, k3, k4, 0, -k3, k5],\n",
    "                [-k1, 0, 0,    k1, 0, 0],\n",
    "                [0, -k2, -k3, 0, k2, -k3],\n",
    "                [0, k3, k5, 0, -k3, k4]])\n",
    "    # Matriz de rigidez em coordenadas globais  \n",
    "    kg=np.dot(np.matrix.transpose(T),np.dot(k,T))\n",
    "  \n",
    "    #Determinando matriz de incidência cinemática:\n",
    "    b = np.zeros((6,GDL))\n",
    "    i=no1\n",
    "    j=no2\n",
    "    b[0,3*i] = 1\n",
    "    b[1,3*i+1] = 1\n",
    "    b[2,3*i+2] = 1\n",
    "    b[3,3*j] = 1\n",
    "    b[4,3*j+1] = 1\n",
    "    b[5,3*j+2] = 1\n",
    "    #Expandindo e convertendo a matriz do elemento para coordenadas globais:\n",
    "    Ki=np.dot(np.matrix.transpose(b),np.dot(kg,b))\n",
    "    #Somando contribuição do elemento para a matriz de rigidez global:\n",
    "    K = K + Ki"
   ]
  },
  {
   "cell_type": "markdown",
   "metadata": {},
   "source": [
    "A matriz de rigidez da estrutura $(\\textbf{K})$ é então:"
   ]
  },
  {
   "cell_type": "code",
   "execution_count": 88,
   "metadata": {
    "scrolled": false
   },
   "outputs": [
    {
     "data": {
      "text/html": [
       "<script>\n",
       "code_show=true; \n",
       "function code_toggle() {\n",
       "    if (code_show){\n",
       "        $('div.cell.code_cell.rendered.selected div.input').hide();\n",
       "    } else {\n",
       "        $('div.cell.code_cell.rendered.selected div.input').show();\n",
       "    }\n",
       "    code_show = !code_show\n",
       "} \n",
       "$( document ).ready(code_toggle);\n",
       "</script>\n",
       "To show/hide this cell's raw code input, click <a href=\"javascript:code_toggle()\">here</a>."
      ],
      "text/plain": [
       "<IPython.core.display.HTML object>"
      ]
     },
     "metadata": {},
     "output_type": "display_data"
    },
    {
     "data": {
      "text/latex": [
       "$$\\begin{align}\\begin{bmatrix}300000000.0&0.0&0.0&-300000000.0&0.0&0.0&0.0&0.0&0.0\\\\0.0&750000.0&3000000.0&0.0&-750000.0&3000000.0&0.0&0.0&0.0\\\\0.0&3000000.0&16000000.0&0.0&-3000000.0&8000000.0&0.0&0.0&0.0\\\\-300000000.0&0.0&0.0&780000000.0&0.0&0.0&-480000000.0&0.0&0.0\\\\0.0&-750000.0&-3000000.0&0.0&3822000.0&4680000.0&0.0&-3072000.0&7680000.0\\\\0.0&3000000.0&8000000.0&0.0&4680000.0&41600000.0&0.0&-7680000.0&12800000.0\\\\0.0&0.0&0.0&-480000000.0&0.0&0.0&480000000.0&0.0&0.0\\\\0.0&0.0&0.0&0.0&-3072000.0&-7680000.0&0.0&3072000.0&-7680000.0\\\\0.0&0.0&0.0&0.0&7680000.0&12800000.0&0.0&-7680000.0&25600000.0\\\\\\end{bmatrix}\\end{align}$$"
      ],
      "text/plain": [
       "<IPython.core.display.Math object>"
      ]
     },
     "metadata": {},
     "output_type": "display_data"
    }
   ],
   "source": [
    "tag = HTML('''<script>\n",
    "code_show=true; \n",
    "function code_toggle() {\n",
    "    if (code_show){\n",
    "        $('div.cell.code_cell.rendered.selected div.input').hide();\n",
    "    } else {\n",
    "        $('div.cell.code_cell.rendered.selected div.input').show();\n",
    "    }\n",
    "    code_show = !code_show\n",
    "} \n",
    "$( document ).ready(code_toggle);\n",
    "</script>\n",
    "To show/hide this cell's raw code input, click <a href=\"javascript:code_toggle()\">here</a>.''')\n",
    "display(tag)\n",
    "\n",
    "txt = r'\\begin{align*}\\begin{bmatrix}'\n",
    "for j in range(GDL):\n",
    "    for i in range(GDL-1):\n",
    "        txt+=str(np.round(K[j,i],2))+'&'\n",
    "    \n",
    "    txt+= str(np.round(K[j,GDL-1],2)) + '\\\\\\\\'\n",
    "txt+= '\\end{bmatrix}\\end{align*}'\n",
    "display(Math(txt))"
   ]
  },
  {
   "cell_type": "markdown",
   "metadata": {},
   "source": [
    "A seguir tem-se o cálculo do vetor de forças:"
   ]
  },
  {
   "cell_type": "code",
   "execution_count": 89,
   "metadata": {},
   "outputs": [],
   "source": [
    "# Vetor de foras Global\n",
    "F=np.zeros((GDL,1))\n",
    "for i in range(n_forcas):\n",
    "    F[int(3*forcas[i,0])]=forcas[i,1]\n",
    "    F[int(3*forcas[i,0])+1]=forcas[i,2]\n",
    "    F[int(3*forcas[i,0])+2]=forcas[i,3]\n"
   ]
  },
  {
   "cell_type": "code",
   "execution_count": 90,
   "metadata": {},
   "outputs": [
    {
     "data": {
      "text/html": [
       "<script>\n",
       "code_show=true; \n",
       "function code_toggle() {\n",
       "    if (code_show){\n",
       "        $('div.cell.code_cell.rendered.selected div.input').hide();\n",
       "    } else {\n",
       "        $('div.cell.code_cell.rendered.selected div.input').show();\n",
       "    }\n",
       "    code_show = !code_show\n",
       "} \n",
       "$( document ).ready(code_toggle);\n",
       "</script>\n",
       "To show/hide this cell's raw code input, click <a href=\"javascript:code_toggle()\">here</a>."
      ],
      "text/plain": [
       "<IPython.core.display.HTML object>"
      ]
     },
     "metadata": {},
     "output_type": "display_data"
    },
    {
     "data": {
      "text/latex": [
       "$$\\begin{align}\\quad\\boldsymbol F=\\begin{bmatrix}0.0\\\\0.0\\\\0.0\\\\0.0\\\\0.0\\\\0.0\\\\0.0\\\\0.0\\\\0.0\\\\\\end{bmatrix}\\end{align}$$"
      ],
      "text/plain": [
       "<IPython.core.display.Math object>"
      ]
     },
     "metadata": {},
     "output_type": "display_data"
    }
   ],
   "source": [
    "tag = HTML('''<script>\n",
    "code_show=true; \n",
    "function code_toggle() {\n",
    "    if (code_show){\n",
    "        $('div.cell.code_cell.rendered.selected div.input').hide();\n",
    "    } else {\n",
    "        $('div.cell.code_cell.rendered.selected div.input').show();\n",
    "    }\n",
    "    code_show = !code_show\n",
    "} \n",
    "$( document ).ready(code_toggle);\n",
    "</script>\n",
    "To show/hide this cell's raw code input, click <a href=\"javascript:code_toggle()\">here</a>.''')\n",
    "display(tag)\n",
    "\n",
    "txt = r'\\begin{align*}\\quad\\boldsymbol F=\\begin{bmatrix}'\n",
    "for j in range(GDL):    \n",
    "    txt+= str(np.round(F[j,0],2)) + '\\\\\\\\'\n",
    "txt+= '\\end{bmatrix}\\end{align*}'\n",
    "display(Math(txt))"
   ]
  },
  {
   "cell_type": "markdown",
   "metadata": {},
   "source": [
    "Agora é necessário calcular o vetor de forças equivalentes, considerando a contribuição de um carregamento equivalente por vez:"
   ]
  },
  {
   "cell_type": "code",
   "execution_count": 91,
   "metadata": {},
   "outputs": [],
   "source": [
    "# Construção do vetor de foras equivalentes\n",
    "Feq=np.zeros((GDL,1))\n",
    "for i in range(n_eq):\n",
    "    tipo=int(w_eq[i,1])   #tipo de força equivalente\n",
    "    el=int(w_eq[i,0])     #elemento onde está aplicada\n",
    "    if tipo==1: #Carregamento distribuído\n",
    "        f=np.zeros((6,1))\n",
    "        no1=conec[el,2]\n",
    "        no2=conec[el,3]\n",
    "        L = np.sqrt((x[no2] - x[no1])**2 + (y[no2] - y[no1])**2)\n",
    "        w=w_eq[i,2]\n",
    "        f[0]=0\n",
    "        f[1]=+w*L/2\n",
    "        f[2]=+w*L**2/12\n",
    "        f[3]=0\n",
    "        f[4]=+w*L/2\n",
    "        f[5]=-w*L**2/12\n",
    "        #Cossenos diretores a partir das coordenadas dos ns do elemento\n",
    "        c = (x[no2] - x[no1])/L\t# cosseno\n",
    "        s = (y[no2] - y[no1])/L\t#  seno\n",
    "        # Matriz de transformação do elemento \"el\"\n",
    "        T=np.matrix([[c, s, 0, 0, 0, 0],\n",
    "                    [-s, c, 0, 0, 0, 0],\n",
    "                    [0, 0, 1, 0, 0, 0],\n",
    "                    [0, 0, 0, c, s, 0],\n",
    "                    [0, 0, 0,-s, c, 0],\n",
    "                    [0, 0, 0, 0, 0, 1]])\n",
    "        feq=np.dot(np.matrix.transpose(T),f)\n",
    "        Feq[3*no1]=Feq[3*no1]+feq[0]\n",
    "        Feq[3*no1+1]=Feq[3*no1+1]+feq[1]\n",
    "        Feq[3*no1+2]=Feq[3*no1+2]+feq[2]\n",
    "        Feq[3*no2]=Feq[3*no2]+feq[3]\n",
    "        Feq[3*no2+1]=Feq[3*no2+1]+feq[4]\n",
    "        Feq[3*no2+2]=Feq[3*no2+2]+feq[5]\n",
    "    elif tipo==2: ## carga aplicada a uma distancia a do nó i\n",
    "        f=np.zeros((6,1))\n",
    "        no1=conec[el,2]\n",
    "        no2=conec[el,3]\n",
    "        L = np.sqrt((x[no2] - x[no1])**2 + (y[no2] - y[no1])**2)\n",
    "        a=w_eq[i,3]\n",
    "        b=L-a\n",
    "        p=w_eq[i,2]\n",
    "        f[0]=0\n",
    "        f[1]=+p*b**2*(3*a+b)/L**3\n",
    "        f[2]=+p*a*b**2/L**2\n",
    "        f[3]=0\n",
    "        f[4]=+p*a**2*(a+3*b)/L**3\n",
    "        f[5]=-p*a**2*b/L**2\n",
    "        #Cossenos diretores a partir das coordenadas dos nós do elemento\n",
    "        c = (x[no2] - x[no1])/L # cosseno\n",
    "        s = (y[no2] - y[no1])/L #  seno\n",
    "        # Matriz de transformação do elemento \"el\"\n",
    "        T=np.matrix([[c, s, 0, 0, 0, 0],\n",
    "                    [-s, c, 0, 0, 0, 0],\n",
    "                    [0, 0, 1, 0, 0, 0],\n",
    "                    [0, 0, 0, c, s, 0],\n",
    "                    [0, 0, 0,-s, c, 0],\n",
    "                    [0, 0, 0, 0, 0, 1]])\n",
    "        feq=np.dot(np.matrix.transpose(T),f)\n",
    "        Feq[3*no1]=Feq[3*no1]+feq[0]\n",
    "        Feq[3*no1+1]=Feq[3*no1+1]+feq[1]\n",
    "        Feq[3*no1+2]=Feq[3*no1+2]+feq[2]\n",
    "        Feq[3*no2]=Feq[3*no2]+feq[3]\n",
    "        Feq[3*no2+1]=Feq[3*no2+1]+feq[4]\n",
    "        Feq[3*no2+2]=Feq[3*no2+2]+feq[5]\n"
   ]
  },
  {
   "cell_type": "code",
   "execution_count": 92,
   "metadata": {},
   "outputs": [
    {
     "data": {
      "text/html": [
       "<script>\n",
       "code_show=true; \n",
       "function code_toggle() {\n",
       "    if (code_show){\n",
       "        $('div.cell.code_cell.rendered.selected div.input').hide();\n",
       "    } else {\n",
       "        $('div.cell.code_cell.rendered.selected div.input').show();\n",
       "    }\n",
       "    code_show = !code_show\n",
       "} \n",
       "$( document ).ready(code_toggle);\n",
       "</script>\n",
       "To show/hide this cell's raw code input, click <a href=\"javascript:code_toggle()\">here</a>."
      ],
      "text/plain": [
       "<IPython.core.display.HTML object>"
      ]
     },
     "metadata": {},
     "output_type": "display_data"
    },
    {
     "data": {
      "text/latex": [
       "$$\\begin{align}\\quad\\boldsymbol F_{eq}=\\begin{bmatrix}0.0\\\\-8000.0\\\\-10666.67\\\\0.0\\\\-20960.0\\\\-3733.33\\\\0.0\\\\-7040.0\\\\9600.0\\\\\\end{bmatrix}\\end{align}$$"
      ],
      "text/plain": [
       "<IPython.core.display.Math object>"
      ]
     },
     "metadata": {},
     "output_type": "display_data"
    }
   ],
   "source": [
    "tag = HTML('''<script>\n",
    "code_show=true; \n",
    "function code_toggle() {\n",
    "    if (code_show){\n",
    "        $('div.cell.code_cell.rendered.selected div.input').hide();\n",
    "    } else {\n",
    "        $('div.cell.code_cell.rendered.selected div.input').show();\n",
    "    }\n",
    "    code_show = !code_show\n",
    "} \n",
    "$( document ).ready(code_toggle);\n",
    "</script>\n",
    "To show/hide this cell's raw code input, click <a href=\"javascript:code_toggle()\">here</a>.''')\n",
    "display(tag)\n",
    "\n",
    "txt = r'\\begin{align*}\\quad\\boldsymbol F_{eq}=\\begin{bmatrix}'\n",
    "for j in range(GDL):    \n",
    "    txt+= str(np.round(Feq[j,0],2)) + '\\\\\\\\'\n",
    "txt+= '\\end{bmatrix}\\end{align*}'\n",
    "display(Math(txt))"
   ]
  },
  {
   "cell_type": "markdown",
   "metadata": {},
   "source": [
    "Tem-se calculados até aqui a matriz de rigidez $(\\textbf{K})$, o vetor de forças nodais $(\\textbf{F})$ e o vetor de forças equivalentes $(\\textbf{F}_{eq})$. O próximo passo é aplicar as condições de contorno ao problema, de modo a possibilitar a obtenção de uma solução para o mesmo. Para isso, elimina-se as linhas de $\\textbf{K}$, $\\textbf{F}$ e $\\textbf{F}_{eq}$ e colunas de $\\textbf{K}$ referentes aos GDL restringidos. \n",
    "\n",
    "Uma maneira computacionalmente simples e eficiente de se fazer isso é zerar os termos das linhas e colunas que seriam eliminadas de $\\textbf{K}$, $\\textbf{F}$ e $\\textbf{F}_{eq}$ e atribuir o valor 1 aos termos da diagonal da matriz $\\textbf{K}$ que seriam eliminados. O trecho de código a seguir refere-se a esse passo:"
   ]
  },
  {
   "cell_type": "code",
   "execution_count": 93,
   "metadata": {},
   "outputs": [],
   "source": [
    "# guardamos os originais de K e F\n",
    "Kg=np.copy(K)\n",
    "Kg[:] = K[:]\n",
    "Fg=F+Feq\n",
    "# Aplicar Restrições (condições de contorno)\n",
    "for k in range(n_rest):\n",
    "    # Verifica se há restrição na direção x\n",
    "    if GDL_rest[k,1]==1:\n",
    "        j=3*GDL_rest[k,0]\n",
    "        #Modificar Matriz de Rigidez\n",
    "        for i in range(GDL):\n",
    "            Kg[j,i]=0   #zera linha\n",
    "            Kg[i,j]=0   #zera coluna\n",
    "        Kg[j,j]=1       #valor unitário na diagonal principal\n",
    "        Fg[j]=0\n",
    "    # Verifica se há restrição na direção y\n",
    "    if GDL_rest[k,2]==1:\n",
    "        j=3*GDL_rest[k,0]+1\n",
    "        #Modificar Matriz de Rigidez\n",
    "        for i in range(GDL):\n",
    "            Kg[j,i]=0   #zera linha\n",
    "            Kg[i,j]=0   #zera coluna\n",
    "        Kg[j,j]=1       #valor unitário na diagonal principal\n",
    "        Fg[j]=0\n",
    "    # Verifica se há restrição na rotação\n",
    "    if GDL_rest[k,3]==1:\n",
    "        j=3*GDL_rest[k,0]+2\n",
    "        #Modificar Matriz de Rigidez\n",
    "        for i in range(GDL):\n",
    "            Kg[j,i]=0   #zera linha\n",
    "            Kg[i,j]=0   #zera coluna\n",
    "        Kg[j,j]=1       #valor unitário na diagonal principal\n",
    "        Fg[j]=0\n"
   ]
  },
  {
   "cell_type": "markdown",
   "metadata": {},
   "source": [
    "Para ilustrar esse processo, a matriz de rigidez restringida da estrutura resulta em:"
   ]
  },
  {
   "cell_type": "code",
   "execution_count": 94,
   "metadata": {},
   "outputs": [
    {
     "data": {
      "text/html": [
       "<script>\n",
       "code_show=true; \n",
       "function code_toggle() {\n",
       "    if (code_show){\n",
       "        $('div.cell.code_cell.rendered.selected div.input').hide();\n",
       "    } else {\n",
       "        $('div.cell.code_cell.rendered.selected div.input').show();\n",
       "    }\n",
       "    code_show = !code_show\n",
       "} \n",
       "$( document ).ready(code_toggle);\n",
       "</script>\n",
       "To show/hide this cell's raw code input, click <a href=\"javascript:code_toggle()\">here</a>."
      ],
      "text/plain": [
       "<IPython.core.display.HTML object>"
      ]
     },
     "metadata": {},
     "output_type": "display_data"
    },
    {
     "data": {
      "text/latex": [
       "$$\\begin{align}\\begin{bmatrix}300000000.0&0.0&0.0&-300000000.0&0.0&0.0&0.0&0.0&0.0\\\\0.0&1.0&0.0&0.0&0.0&0.0&0.0&0.0&0.0\\\\0.0&0.0&16000000.0&0.0&0.0&8000000.0&0.0&0.0&0.0\\\\-300000000.0&0.0&0.0&780000000.0&0.0&0.0&0.0&0.0&0.0\\\\0.0&0.0&0.0&0.0&1.0&0.0&0.0&0.0&0.0\\\\0.0&0.0&8000000.0&0.0&0.0&41600000.0&0.0&0.0&0.0\\\\0.0&0.0&0.0&0.0&0.0&0.0&1.0&0.0&0.0\\\\0.0&0.0&0.0&0.0&0.0&0.0&0.0&1.0&0.0\\\\0.0&0.0&0.0&0.0&0.0&0.0&0.0&0.0&1.0\\\\\\end{bmatrix}\\end{align}$$"
      ],
      "text/plain": [
       "<IPython.core.display.Math object>"
      ]
     },
     "metadata": {},
     "output_type": "display_data"
    }
   ],
   "source": [
    "tag = HTML('''<script>\n",
    "code_show=true; \n",
    "function code_toggle() {\n",
    "    if (code_show){\n",
    "        $('div.cell.code_cell.rendered.selected div.input').hide();\n",
    "    } else {\n",
    "        $('div.cell.code_cell.rendered.selected div.input').show();\n",
    "    }\n",
    "    code_show = !code_show\n",
    "} \n",
    "$( document ).ready(code_toggle);\n",
    "</script>\n",
    "To show/hide this cell's raw code input, click <a href=\"javascript:code_toggle()\">here</a>.''')\n",
    "display(tag)\n",
    "\n",
    "txt = r'\\begin{align*}\\begin{bmatrix}'\n",
    "for j in range(GDL):\n",
    "    for i in range(GDL-1):\n",
    "        txt+=str(np.round(Kg[j,i],2))+'&'\n",
    "    \n",
    "    txt+= str(np.round(Kg[j,GDL-1],2)) + '\\\\\\\\'\n",
    "txt+= '\\end{bmatrix}\\end{align*}'\n",
    "display(Math(txt))"
   ]
  },
  {
   "cell_type": "markdown",
   "metadata": {},
   "source": [
    "Após a aplicação das condições de contorno, pode-se obter os deslocamentos nos nós da estrutura resolvendo o sistema de equações lineares $\\textbf{K}\\textbf{d}=\\textbf{F}+\\textbf{F}_{eq}$:"
   ]
  },
  {
   "cell_type": "code",
   "execution_count": 95,
   "metadata": {},
   "outputs": [],
   "source": [
    "# Calculo dos deslocamentos\n",
    "desloc=np.linalg.solve(Kg,Fg)    "
   ]
  },
  {
   "cell_type": "code",
   "execution_count": 96,
   "metadata": {},
   "outputs": [
    {
     "data": {
      "text/html": [
       "<script>\n",
       "code_show=true; \n",
       "function code_toggle() {\n",
       "    if (code_show){\n",
       "        $('div.cell.code_cell.rendered.selected div.input').hide();\n",
       "    } else {\n",
       "        $('div.cell.code_cell.rendered.selected div.input').show();\n",
       "    }\n",
       "    code_show = !code_show\n",
       "} \n",
       "$( document ).ready(code_toggle);\n",
       "</script>\n",
       "To show/hide this cell's raw code input, click <a href=\"javascript:code_toggle()\">here</a>."
      ],
      "text/plain": [
       "<IPython.core.display.HTML object>"
      ]
     },
     "metadata": {},
     "output_type": "display_data"
    },
    {
     "data": {
      "text/latex": [
       "$$\\begin{align}\\quad\\boldsymbol d=\\begin{bmatrix}0.0\\\\0.0\\\\-6.88E-4\\\\0.0\\\\0.0\\\\4.26E-5\\\\0.0\\\\0.0\\\\0.0\\\\\\end{bmatrix}\\end{align}$$"
      ],
      "text/plain": [
       "<IPython.core.display.Math object>"
      ]
     },
     "metadata": {},
     "output_type": "display_data"
    }
   ],
   "source": [
    "tag = HTML('''<script>\n",
    "code_show=true; \n",
    "function code_toggle() {\n",
    "    if (code_show){\n",
    "        $('div.cell.code_cell.rendered.selected div.input').hide();\n",
    "    } else {\n",
    "        $('div.cell.code_cell.rendered.selected div.input').show();\n",
    "    }\n",
    "    code_show = !code_show\n",
    "} \n",
    "$( document ).ready(code_toggle);\n",
    "</script>\n",
    "To show/hide this cell's raw code input, click <a href=\"javascript:code_toggle()\">here</a>.''')\n",
    "display(tag)\n",
    "from decimal import Decimal\n",
    "\n",
    "txt = r'\\begin{align*}\\quad\\boldsymbol d=\\begin{bmatrix}'\n",
    "for j in range(GDL):\n",
    "    if desloc[j,0] == 0:\n",
    "        txt+= str(desloc[j,0]) + '\\\\\\\\'\n",
    "    else:    \n",
    "        txt+= str(\"{:.2E}\".format(Decimal(desloc[j,0]))) + '\\\\\\\\'\n",
    "txt+= '\\end{bmatrix}\\end{align*}'\n",
    "display(Math(txt))"
   ]
  },
  {
   "cell_type": "markdown",
   "metadata": {},
   "source": [
    "Tendo calculado os deslocamentos, pode-se agora obter as reações $(\\textbf{R})$ usando a expressão $\\textbf{R} = \\textbf{K}\\textbf{d}-\\textbf{F}_{eq}$:"
   ]
  },
  {
   "cell_type": "code",
   "execution_count": 97,
   "metadata": {},
   "outputs": [],
   "source": [
    "# Reações\n",
    "reacoes=K*desloc-Feq"
   ]
  },
  {
   "cell_type": "code",
   "execution_count": 98,
   "metadata": {},
   "outputs": [
    {
     "data": {
      "text/html": [
       "<script>\n",
       "code_show=true; \n",
       "function code_toggle() {\n",
       "    if (code_show){\n",
       "        $('div.cell.code_cell.rendered.selected div.input').hide();\n",
       "    } else {\n",
       "        $('div.cell.code_cell.rendered.selected div.input').show();\n",
       "    }\n",
       "    code_show = !code_show\n",
       "} \n",
       "$( document ).ready(code_toggle);\n",
       "</script>\n",
       "To show/hide this cell's raw code input, click <a href=\"javascript:code_toggle()\">here</a>."
      ],
      "text/plain": [
       "<IPython.core.display.HTML object>"
      ]
     },
     "metadata": {},
     "output_type": "display_data"
    },
    {
     "data": {
      "text/latex": [
       "$$\\begin{align}\\quad\\boldsymbol R=\\begin{bmatrix}0.0\\\\6.06E+3\\\\0.0\\\\0.0\\\\2.32E+4\\\\-4.55E-13\\\\0.0\\\\6.71E+3\\\\-9.06E+3\\\\\\end{bmatrix}\\end{align}$$"
      ],
      "text/plain": [
       "<IPython.core.display.Math object>"
      ]
     },
     "metadata": {},
     "output_type": "display_data"
    }
   ],
   "source": [
    "tag = HTML('''<script>\n",
    "code_show=true; \n",
    "function code_toggle() {\n",
    "    if (code_show){\n",
    "        $('div.cell.code_cell.rendered.selected div.input').hide();\n",
    "    } else {\n",
    "        $('div.cell.code_cell.rendered.selected div.input').show();\n",
    "    }\n",
    "    code_show = !code_show\n",
    "} \n",
    "$( document ).ready(code_toggle);\n",
    "</script>\n",
    "To show/hide this cell's raw code input, click <a href=\"javascript:code_toggle()\">here</a>.''')\n",
    "display(tag)\n",
    "from decimal import Decimal\n",
    "\n",
    "txt = r'\\begin{align*}\\quad\\boldsymbol R=\\begin{bmatrix}'\n",
    "for j in range(GDL):\n",
    "    if reacoes[j,0] == 0:\n",
    "        txt+= str(reacoes[j,0]) + '\\\\\\\\'\n",
    "    else:    \n",
    "        txt+= str(\"{:.2E}\".format(Decimal(reacoes[j,0]))) + '\\\\\\\\'\n",
    "txt+= '\\end{bmatrix}\\end{align*}'\n",
    "display(Math(txt))"
   ]
  },
  {
   "cell_type": "markdown",
   "metadata": {},
   "source": [
    "Por fim, resta determinar quais os esforços $(f)$ e tensões máximas $(\\sigma)$ atuando em cada elemento:"
   ]
  },
  {
   "cell_type": "code",
   "execution_count": 99,
   "metadata": {},
   "outputs": [],
   "source": [
    "# Esforços nos elementos\n",
    "f_el=np.zeros((n_el,6))\n",
    "N = np.zeros((n_el,1))\n",
    "Mmax = np.zeros((n_el,1))\n",
    "Smax = np.zeros((n_el,1))\n",
    "for el in range(n_el):\n",
    "    #calculo do comprimento do elemento el\n",
    "    no1=conec[el,2]\n",
    "    no2=conec[el,3]\n",
    "    #L=abs(x(no2)-x(no1))\n",
    "    L = np.sqrt((x[no2] - x[no1])**2 + (y[no2] - y[no1])**2)\n",
    "    #Propriedades\n",
    "    A = secoes[conec[el,1],1]\n",
    "    E = secoes[conec[el,1],2]\n",
    "    Iz = secoes[conec[el,1],3]\n",
    "    cc = secoes[conec[el,1],4]\n",
    "    #Cossenos diretores a partir das coordenadas dos ns do elemento\n",
    "    c = (x[no2] - x[no1])/L # cosseno\n",
    "    s = (y[no2] - y[no1])/L #  seno\n",
    "    # Matriz de transformação do elemento \"el\"\n",
    "    T=np.matrix([[c, s, 0, 0, 0, 0],\n",
    "                [-s, c, 0, 0, 0, 0],\n",
    "                [0, 0, 1, 0, 0, 0],\n",
    "                [0, 0, 0, c, s, 0],\n",
    "                [0, 0, 0,-s, c, 0],\n",
    "                [0, 0, 0, 0, 0, 1]])\n",
    "    # Construção da matriz de rigidez em coordenadas locais\n",
    "    k1=E*A/L\n",
    "    k2=12*E*Iz/L**3\n",
    "    k3=6*E*Iz/L**2\n",
    "    k4=4*E*Iz/L\n",
    "    k5=k4/2\n",
    "    ke=np.array([[k1, 0, 0, -k1, 0, 0],\n",
    "                [0, k2, k3, 0, -k2, k3],\n",
    "                [0, k3, k4, 0, -k3, k5],\n",
    "                [-k1, 0, 0,    k1, 0, 0],\n",
    "                [0, -k2, -k3, 0, k2, -k3],\n",
    "                [0, k3, k5, 0, -k3, k4]])\n",
    "   #pega os valores dos deslocamentos dos nós do elemento \"el\"\n",
    "    u1 = desloc[no1*3]\n",
    "    u2 = desloc[no2*3]\n",
    "    v1 = desloc[no1*3+1]\n",
    "    v2 = desloc[no2*3+1]\n",
    "    th1=desloc[no1*3+2]\n",
    "    th2=desloc[no2*3+2]\n",
    "    d_g=np.matrix([u1, v1, th1, u2, v2, th2])\n",
    "    d_el=T*d_g    \n",
    "\n",
    "    ## forças equivalentes: recalcula vetor de feq. no sistema local\n",
    "    aux = []\n",
    "    cont = [0];\n",
    "    for temp in w_eq[:,0]:\n",
    "        if int(temp) ==el:\n",
    "            aux = cont[:]\n",
    "        cont[0] = cont[0] + 1\n",
    "    if len(aux)==0:\n",
    "        feqq=0\n",
    "    else:\n",
    "        aux = int(aux[0])\n",
    "        tipo=w_eq[aux,1]   #tipo de força equivalente\n",
    "        if tipo==1:\n",
    "            w=w_eq[aux,2]\n",
    "            feqq=np.zeros((6,1))\n",
    "            feqq[0]=0\n",
    "            feqq[1]=+w*L/2\n",
    "            feqq[2]=+w*L**2/12\n",
    "            feqq[3]=0\n",
    "            feqq[4]=+w*L/2\n",
    "            feqq[5]=-w*L**2/12\n",
    "        elif tipo==2:\n",
    "            a=w_eq[aux,3]\n",
    "            b=L-a\n",
    "            p=w_eq[aux,2]\n",
    "            feqq=np.zeros((6,1))\n",
    "            feqq[0]=0\n",
    "            feqq[1]=+p*b**2*(3*a+b)/L**3\n",
    "            feqq[2]=+p*a*b**2/L**2\n",
    "            feqq[3]=0\n",
    "            feqq[4]=+p*a**2*(a+3*b)/L**3\n",
    "            feqq[5]=-p*a**2*b/L**2\n",
    "        \n",
    "    ## força e tensão atuante no elemento \"el\", cada linha da matriz f_el\n",
    "    #contem os esforços de um elemento = [Fx_1 Fy_1 Mz_1 Fx_2 Fy_2 Mz_2]\n",
    "    f_el[el,:] = np.matrix.transpose(ke*d_el-feqq)\n",
    "    # Esforços para cálculo de tensão\n",
    "    N[el,0]= abs(f_el[el,0])\n",
    "    Mz1=abs(f_el[el,2])\n",
    "    Mz2=abs(f_el[el,5])\n",
    "    Mmax[el,0] = max(Mz1, Mz2)\n",
    "    \n",
    "    # momento máximo se for viga\n",
    "    if el == 2:  #modificar esse condicional para o Trabalho\n",
    "        Mzmeio = abs(  0  )  # Colocar no lugar do zero equação pertinente\n",
    "        Mmax[el,0] = max(Mz1, Mz2, Mzmeio)\n",
    "\n",
    "    # Cálculo da tensão\n",
    "    Smax[el,0] = N[el,0]/A + Mmax[el,0]/Iz*cc"
   ]
  },
  {
   "cell_type": "code",
   "execution_count": 100,
   "metadata": {},
   "outputs": [
    {
     "data": {
      "text/html": [
       "<script>\n",
       "code_show=true; \n",
       "function code_toggle() {\n",
       "    if (code_show){\n",
       "        $('div.cell.code_cell.rendered.selected div.input').hide();\n",
       "    } else {\n",
       "        $('div.cell.code_cell.rendered.selected div.input').show();\n",
       "    }\n",
       "    code_show = !code_show\n",
       "} \n",
       "$( document ).ready(code_toggle);\n",
       "</script>\n",
       "To show/hide this cell's raw code input, click <a href=\"javascript:code_toggle()\">here</a>."
      ],
      "text/plain": [
       "<IPython.core.display.HTML object>"
      ]
     },
     "metadata": {},
     "output_type": "display_data"
    },
    {
     "data": {
      "text/latex": [
       "$$\\begin{align} f = \\begin{bmatrix}0.0&6.06E+3&0.0&0.0&9.94E+3&-1.55E+4\\\\0.0&1.33E+4&1.55E+4&0.0&6.71E+3&-9.06E+3\\\\\\end{bmatrix}\\end{align}$$"
      ],
      "text/plain": [
       "<IPython.core.display.Math object>"
      ]
     },
     "metadata": {},
     "output_type": "display_data"
    },
    {
     "data": {
      "text/latex": [
       "$$\\begin{align} \\sigma = \\begin{bmatrix}4.84E+6\\\\4.84E+6\\\\\\end{bmatrix}\\end{align}$$"
      ],
      "text/plain": [
       "<IPython.core.display.Math object>"
      ]
     },
     "metadata": {},
     "output_type": "display_data"
    }
   ],
   "source": [
    "tag = HTML('''<script>\n",
    "code_show=true; \n",
    "function code_toggle() {\n",
    "    if (code_show){\n",
    "        $('div.cell.code_cell.rendered.selected div.input').hide();\n",
    "    } else {\n",
    "        $('div.cell.code_cell.rendered.selected div.input').show();\n",
    "    }\n",
    "    code_show = !code_show\n",
    "} \n",
    "$( document ).ready(code_toggle);\n",
    "</script>\n",
    "To show/hide this cell's raw code input, click <a href=\"javascript:code_toggle()\">here</a>.''')\n",
    "display(tag)\n",
    "from decimal import Decimal\n",
    "\n",
    "txt = r'\\begin{align*} f = \\begin{bmatrix}'\n",
    "for j in range(n_el):\n",
    "    for i in range(5):\n",
    "        if f_el[j,i] == 0:\n",
    "            txt+= str(f_el[j,i]) + '&'\n",
    "        else:    \n",
    "            txt+= str(\"{:.2E}\".format(Decimal(f_el[j,i]))) + '&'    \n",
    "    if f_el[j,i] == 0:\n",
    "        txt+= str(f_el[j,5]) + '\\\\\\\\'\n",
    "    else:    \n",
    "        txt+= str(\"{:.2E}\".format(Decimal(f_el[j,5]))) + '\\\\\\\\'    \n",
    "txt+= '\\end{bmatrix}\\end{align*}'\n",
    "display(Math(txt))\n",
    "\n",
    "txt = r'\\begin{align*} \\sigma = \\begin{bmatrix}'\n",
    "for j in range(n_el):\n",
    "    if Smax[j,0] == 0:\n",
    "        txt+= str(Smax[j,0]) + '\\\\\\\\'\n",
    "    else:    \n",
    "        txt+= str(\"{:.2E}\".format(Decimal(Smax[j,0]))) + '\\\\\\\\'    \n",
    "txt+= '\\end{bmatrix}\\end{align*}'\n",
    "display(Math(txt))"
   ]
  }
 ],
 "metadata": {
  "kernelspec": {
   "display_name": "Python 2",
   "language": "python",
   "name": "python2"
  },
  "language_info": {
   "codemirror_mode": {
    "name": "ipython",
    "version": 2
   },
   "file_extension": ".py",
   "mimetype": "text/x-python",
   "name": "python",
   "nbconvert_exporter": "python",
   "pygments_lexer": "ipython2",
   "version": "2.7.16"
  }
 },
 "nbformat": 4,
 "nbformat_minor": 2
}
