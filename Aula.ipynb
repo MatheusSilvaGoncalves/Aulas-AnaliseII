{
 "cells": [
  {
   "cell_type": "markdown",
   "metadata": {
    "slideshow": {
     "slide_type": "slide"
    }
   },
   "source": [
    "# Elemento arbitrariamente orientado no plano\n",
    "\n",
    "Sabemos como funciona a matriz de rigidez de um elemento de pórtico plano no sistema local, ou seja, com x na direção do elemento. Assim, sabemos como relacionar forças com deslocamentos nesse sistema local. Porém, uma estrutura pode apresentar elementos orientados das mais diversas formas, compartilhando um único sistema de coordenadas global. Logo, temos que desenvolver uma forma de relacionar deslocamentos e forças no sistema local, que é o que sabemos calcular, com as respectivas componentes no sistema global.\n",
    "\n",
    "Para ilustrar o problema em questão, a Figura abaixo apresenta um elemento arbitrariamente orientado no plano. Neste, ficam evidentes as diferenças entre o sistema de coordenadas local ($x'$,$y'$) e global ($x$,$y$). Além disso, apresenta-se os deslocamentos em cada GDL local ($u'_1$, $v'_1$, $u'_2$ e $v'_2$) e global ($u_1$, $v_1$, $u_2$ e $v_2$). Pode-se notar que o ângulo $\\beta$ é suficiente para definir a orientação da barra no espaço. O valor de $\\beta$ é definido como o ângulo entre uma linha horizontal passando pelo primeiro nó do elemento e o próprio elemento. Vale destacar que tanto faz o nó que se escolher como primeiro (1 ou 2, nesse caso), o que importa é que dado essa escolha, a convenção para cálculo de $\\beta$ deve ser seguida. \n"
   ]
  },
  {
   "attachments": {
    "12.png": {
     "image/png": "[encoded data removed]"
    }
   },
   "cell_type": "markdown",
   "metadata": {},
   "source": [
    "<img src=\"attachment:12.png\" width=\"600\">"
   ]
  },
  {
   "cell_type": "markdown",
   "metadata": {},
   "source": [
    "\n",
    "Um primeiro ponto a se destacar é que os graus de liberdade relacionados à rotação $\\theta_z$ não se alteram com uma rotação $\\beta$, sendo então $\\theta'_{z}=\\theta_z$. Resta, porém, saber como relacionar os deslocamentos $u'$ e $v'$ com $u$ e $v$. Para isso, buscamos escrever uma expressão para $u_2$ e $v_2$ baseados nas componentes locais, utilizando relações trigonométricas. Vale ressaltar que o procedimento para o nó 1 é idêntico:\n",
    "\\begin{eqnarray}\n",
    "u_2 &=& cos(\\beta)u'_2 - sen(\\beta)v'_2\\\\\n",
    "v_2 &=& sen(\\beta)u'_2 + cos(\\beta)v'_2\n",
    "\\end{eqnarray}\n",
    "\n",
    "Pode-se escrever essa relação em forma matricial:\n",
    "\n",
    "\\begin{equation}\n",
    "\\left[\n",
    "\\begin{matrix}\n",
    "u_2 \\\\ v_2\t\\\\ \\theta_{z2}\n",
    "\\end{matrix}\n",
    "\\right]  = \n",
    "{\\begin{bmatrix}\n",
    "\tcos(\\beta)  & -sen(\\beta) & 0 \\\\\n",
    "\tsen(\\beta) & cos(\\beta) & 0 \\\\\n",
    "\t0 & 0 & 1\n",
    "\t\\end{bmatrix}}\n",
    "\\left[\n",
    "\\begin{matrix}\n",
    "u'_2 \\\\ v'_2 \\\\ \\theta'_{z2}\t\n",
    "\\end{matrix}\n",
    "\\right] \n",
    "\\end{equation}\n",
    "\n",
    "Pode-se definir o transposto da matriz de rotação $\\underline{\\underline{\\gamma}}^T$ como sendo:\n",
    "\n",
    "\\begin{equation}\n",
    "\\underline{\\underline{\\gamma}}^T~=~\n",
    "{\\begin{bmatrix}\n",
    "\tcos(\\beta)  & -sen(\\beta) & 0\\\\\n",
    "\tsen(\\beta) & cos(\\beta) & 0 \\\\\n",
    "\t0 & 0 & 1\n",
    "\t\\end{bmatrix}}\n",
    "\\end{equation}\n",
    "\n",
    "Essa matriz possui uma propriedade muito importante, que é a ortogonalidade, ou seja:\n",
    "\n",
    "\\begin{equation}\n",
    "\\underline{\\underline{\\gamma}} \\underline{\\underline{\\gamma}}^T = I\n",
    "\\end{equation}\n",
    "\n",
    "Onde $I$ é a matriz identidade. Em outras palavras:\n",
    "\n",
    "\\begin{equation}\n",
    "\\underline{\\underline{\\gamma}}^{-1}=\\underline{\\underline{\\gamma}}^T\n",
    "\\end{equation}\n",
    "\n",
    "Assim, a matriz $\\underline{\\underline{\\gamma}}$ e sua transposta podem ser usadas para fazer a passagem de sistema global para local e vice versa:\n",
    "\n",
    "\\begin{eqnarray}\n",
    "\\underline{\\textbf{d}}_{e2} &=& \\underline{\\underline{\\gamma}}^T\\underline{\\textbf{d}}_{e2}' \\\\\n",
    "\\underline{\\textbf{d}}_{e2}' &=& \\underline{\\underline{\\gamma}} \\underline{\\textbf{d}}_{e2}\n",
    "\\end{eqnarray}\n",
    "\n",
    "Onde o subscrito 2 indica que estamos tratando apenas dos deslocamentos no nó 2, tanto sistema local quanto global. Essa expressão é valida para os nós individualmente, porém temos interesse em formular uma expressão que funcione para ambos os nós simultaneamente. Para isso, desenvolvemos a matriz de transformação $\\underline{\\underline{\\textbf{T}}}$, utilizando o fato de um deslocamento no nó 2 não interferir no nó 1 e vice versa:\n",
    "\n",
    "\\begin{equation}\n",
    "\\label{eqT}\\tag{1}\n",
    " \\underline{\\underline{\\textbf{T}}} = \n",
    "{\\left[\\begin{array}{c;{2pt/2pt}c}\n",
    "\t\\underline{\\underline{\\gamma}} & \\underline{\\underline{0}}      \\\\\\hdashline[2pt/2pt]\n",
    "\t\\underline{\\underline{0}}      & \\underline{\\underline{\\gamma}}\n",
    "\t\\end{array}\\right]}~=~\n",
    "\t{\\left[\\begin{array}{ccc;{2pt/2pt}ccc}\n",
    "\t\tcos(\\beta)  & sen(\\beta) & 0 & 0           & 0          & 0 \\\\\n",
    "\t\t-sen(\\beta) & cos(\\beta) & 0 & 0           & 0          & 0 \\\\\n",
    "\t\t0           & 0          & 1 & 0           & 0          & 0 \\\\\\hdashline[2pt/2pt]\n",
    "\t\t0           & 0          & 0 & cos(\\beta)  & sen(\\beta) & 0 \\\\\n",
    "\t\t0           & 0          & 0 & -sen(\\beta) & cos(\\beta) & 0 \\\\\n",
    "\t\t0           & 0          & 0 & 0           & 0          & 1\n",
    "\t\t\\end{array}\\right]}\n",
    "\\end{equation}\n",
    "\t\t\n",
    "\n",
    "Assim como a matriz de rotação, a matriz de transformação também é ortogonal. Logo, a relação de deslocamentos no sistema global e local é:\n",
    "\n",
    "\\begin{eqnarray}\n",
    "\\underline{\\textbf{d}}_{e} &=& \\underline{\\underline{\\textbf{T}}}^T\\underline{\\textbf{d}}_{e}' \\\\\n",
    "\\underline{\\textbf{d}}_{e}' &=& \\underline{\\underline{\\textbf{T}}}\\underline{\\textbf{d}}_{e}\n",
    "\\end{eqnarray}\n",
    "\n",
    "Como as forças atuam nos mesmos GDL dos deslocamentos, as relações para passá-las de sistema global para local são idênticas:\n",
    "\\begin{eqnarray}\n",
    "\\underline{\\textbf{f}}_{e} &=& \\underline{\\underline{\\textbf{T}}}^T\\underline{\\textbf{f}}_{e}' \\\\\n",
    "\\underline{\\textbf{f}}_{e}' &=& \\underline{\\underline{\\textbf{T}}}\\underline{\\textbf{f}}_{e}\n",
    "\\end{eqnarray}\n",
    "\n",
    "Como se quer considerar todos os elementos simultaneamente, é necessário que todos estejam descritos no sistema de coordenadas global. Porém, o que temos é as informações no sistema local:\n",
    "\n",
    "\\begin{equation}\n",
    "\\label{eq:elgl}\\tag{2}\n",
    "\\underline{\\textbf{f}}_e = \n",
    "\\underline{\\underline{\\textbf{k}}}_e ~ \\underline{\\textbf{d}}_e\n",
    "\\end{equation}\n",
    "\n",
    "Utilizando a matriz de transformação $\\underline{\\underline{\\textbf{T}}}$, sabemos que:\n",
    "\n",
    "\\begin{eqnarray}\n",
    "\\underline{\\textbf{d}}_{e}' &=& \\underline{\\underline{\\textbf{T}}}\\underline{\\textbf{d}}_{e}\\\\\n",
    "\\underline{\\textbf{f}}_{e}' &=& \\underline{\\underline{\\textbf{T}}}\\underline{\\textbf{f}}_{e}\n",
    "\\end{eqnarray}\n",
    "\n",
    "Substituindo essas relações na Equação \\ref{eq:elgl} tem-se:\n",
    "\\begin{equation}\n",
    "\\underline{\\underline{\\textbf{T}}}\\underline{\\textbf{f}}_e = \n",
    "\\underline{\\underline{\\textbf{k}}}'_e ~ \\underline{\\underline{\\textbf{T}}}\\underline{\\textbf{d}}_e\n",
    "\\end{equation}\n",
    "\n",
    "Multiplicando ambas as equações pela esquerda por $\\underline{\\underline{\\textbf{T}}}^T$ e fazendo uso da ortogonalidade dessa matriz:\n",
    "\\begin{eqnarray}\n",
    "(\\underline{\\underline{\\textbf{T}}}^T)\\underline{\\underline{\\textbf{T}}}\\underline{\\textbf{f}}_e &=&\n",
    "(\\underline{\\underline{\\textbf{T}}}^T)\\underline{\\underline{\\textbf{k}}}'_e ~ \\underline{\\underline{\\textbf{T}}}\\underline{\\textbf{d}}_e \\\\\n",
    "\\underline{\\textbf{f}}_e &=&\n",
    "(\\underline{\\underline{\\textbf{T}}}^T\\underline{\\underline{\\textbf{k}}}'_e ~ \\underline{\\underline{\\textbf{T}}}\\underline{\\textbf{d}}_e\n",
    "\\end{eqnarray}\n",
    "\n",
    "Percebe-se que, apenas utilizando a matriz de transformação, conseguimos passar as informações do elemento de pórtico plano do sistema local para o global. Dessa forma, esta equação é válida para passar um elemento para o sistema global da estrutura. O termo destacado é chamado de matriz de rigidez global do elemento:\n",
    "\n",
    "\\begin{equation}\n",
    "\\underline{\\underline{\\textbf{k}}}_g = \\underline{\\underline{\\textbf{T}}}^T\\underline{\\underline{\\textbf{k}}}'_e\\underline{\\underline{\\textbf{T}}}\n",
    "\\end{equation}\n",
    "\n",
    "Assim, para montar a matriz de rigidez $\\underline{\\underline{\\textbf{K}}}$ é necessário calcular a matriz $\\underline{\\underline{\\textbf{k}}}_g$ de todos os elementos. Uma vez encontrada $\\underline{\\underline{\\textbf{k}}}_g$, a montagem de $\\underline{\\underline{\\textbf{K}}}$ se dá da mesma forma que em elementos de viga: somando os termos de cada elemento nos seus respectivos GDL em $\\underline{\\underline{\\textbf{K}}}$. Após montar $\\underline{\\underline{\\textbf{K}}}$, encontra-se a matriz de rigidez restringida retirando de $\\underline{\\underline{\\textbf{K}}}$ as linhas e colunas referentes aos GDL onde há apoio — como no caso de vigas. $\\underline{\\textbf{F}}$ restringido é obtido da mesma forma. \n"
   ]
  },
  {
   "cell_type": "markdown",
   "metadata": {},
   "source": [
    "# Exemplos\n",
    "\n",
    "Para entender melhor os conceitos relacionados com transformação de coordenadas entre sistema local e global, temos a seguir alguns trechos de código. A maior parte dos códigos está omitida, porém basta um click para mostrar o trecho de interesse. \n",
    "\n",
    "Primeiramente, definimos o ângulo $\\beta$ em graus que o sistema local do elemento faz com o sistema global. Esse valor deve ser definido na célula abaixo, assim como as demais propriedades do elemento: módulo de elasticidade (E), momento de inércia (I), comprimento (L) e área da seção transversal (A). Vale ressaltar que aqui podem ser testadas quantas combinações diferentes de propriedades tenha-se interesse."
   ]
  },
  {
   "cell_type": "code",
   "execution_count": 1,
   "metadata": {},
   "outputs": [],
   "source": [
    "Beta = 90\n",
    "A = 2\n",
    "L = 10\n",
    "E = 50e9\n",
    "I = 0.0001"
   ]
  },
  {
   "cell_type": "code",
   "execution_count": 2,
   "metadata": {},
   "outputs": [],
   "source": [
    "Beta = 90\n",
    "L = 10\n",
    "E = 50e9\n",
    "I = 0.0001\n",
    "A = 0.2"
   ]
  },
  {
   "cell_type": "markdown",
   "metadata": {},
   "source": [
    "A Figura abaixo apresenta a posição rotacionada desse elemento, fazendo um ângulo $\\beta$ com relação ao sistema de coordenadas global."
   ]
  },
  {
   "cell_type": "code",
   "execution_count": 6,
   "metadata": {},
   "outputs": [
    {
     "data": {
      "text/html": [
       "<script>\n",
       "    code_show=true; \n",
       "    function code_toggle() {\n",
       "        if (code_show){\n",
       "            $('div.cell.code_cell.rendered.selected div.input').hide();\n",
       "        } else {\n",
       "            $('div.cell.code_cell.rendered.selected div.input').show();\n",
       "        }\n",
       "        code_show = !code_show\n",
       "    } \n",
       "    $( document ).ready(code_toggle);\n",
       "    </script>\n",
       "    To show/hide this cell's raw code input, click <a href=\"javascript:code_toggle()\">here</a>."
      ],
      "text/plain": [
       "<IPython.core.display.HTML object>"
      ]
     },
     "metadata": {},
     "output_type": "display_data"
    },
    {
     "data": {
      "image/png": "[encoded data removed]",
      "text/plain": [
       "<Figure size 432x288 with 1 Axes>"
      ]
     },
     "metadata": {
      "needs_background": "light"
     },
     "output_type": "display_data"
    }
   ],
   "source": [
    "import matplotlib.pyplot as plt\n",
    "from IPython.display import display, Math, HTML\n",
    "import numpy as np\n",
    "\n",
    "def show_hide_link():\n",
    "    display(HTML('''<script>\n",
    "    code_show=true; \n",
    "    function code_toggle() {\n",
    "        if (code_show){\n",
    "            $('div.cell.code_cell.rendered.selected div.input').hide();\n",
    "        } else {\n",
    "            $('div.cell.code_cell.rendered.selected div.input').show();\n",
    "        }\n",
    "        code_show = !code_show\n",
    "    } \n",
    "    $( document ).ready(code_toggle);\n",
    "    </script>\n",
    "    To show/hide this cell's raw code input, click <a href=\"javascript:code_toggle()\">here</a>.''')\n",
    "    )\n",
    "show_hide_link()\n",
    "\n",
    "BetaR = Beta*np.pi/180\n",
    "x = [0,np.cos(BetaR)*L]\n",
    "y = [0,np.sin(BetaR)*L]\n",
    "\n",
    "fig = plt.figure()\n",
    "ax = fig.add_subplot(111)\n",
    "\n",
    "lines = plt.plot(x,y)\n",
    "text = r'$\\beta$ = ' + str(Beta) + '$^o$'\n",
    "plt.setp(lines, color='r', linewidth=5.0,label = text)\n",
    "plt.legend()\n",
    "plt.xlim((-L,L))\n",
    "plt.ylim((-L,L))\n",
    "plt.title('Elemento rotacionado')\n",
    "left,right = ax.get_xlim()\n",
    "low,high = ax.get_ylim()\n",
    "plt.arrow( left, 0, right -left, 0, length_includes_head = True, head_width = 0.05*L )\n",
    "plt.arrow( 0, low, 0, high-low, length_includes_head = True, head_width = 0.05*L ) \n",
    "\n",
    "plt.grid()\n",
    "plt.show()"
   ]
  },
  {
   "cell_type": "markdown",
   "metadata": {},
   "source": [
    "A matriz de transformação para esse ângulo de rotação encontra-se abaixo, montada conforme Equação 2. Percebe-se que basta substituir os valores de seno e cosseno de $\\beta$ nas repectivas posições da matriz $\\underline{\\underline{\\mathbf{T}}}$."
   ]
  },
  {
   "cell_type": "code",
   "execution_count": 7,
   "metadata": {},
   "outputs": [
    {
     "data": {
      "text/html": [
       "<script>\n",
       "    code_show=true; \n",
       "    function code_toggle() {\n",
       "        if (code_show){\n",
       "            $('div.cell.code_cell.rendered.selected div.input').hide();\n",
       "        } else {\n",
       "            $('div.cell.code_cell.rendered.selected div.input').show();\n",
       "        }\n",
       "        code_show = !code_show\n",
       "    } \n",
       "    $( document ).ready(code_toggle);\n",
       "    </script>\n",
       "    To show/hide this cell's raw code input, click <a href=\"javascript:code_toggle()\">here</a>."
      ],
      "text/plain": [
       "<IPython.core.display.HTML object>"
      ]
     },
     "metadata": {},
     "output_type": "display_data"
    },
    {
     "data": {
      "text/latex": [
       "$\\displaystyle \\begin{align}\\quad\\boldsymbol T=\\begin{bmatrix} 0. & 1. & 0. & 0. & 0. & 0.\\\\-1. & 0. & 0. & 0. & 0. & 0.\\\\ 0. & 0. & 1. & 0. & 0. & 0.\\\\ 0. & 0. & 0. & 0. & 1. & 0.\\\\ 0. & 0. & 0. &-1. & 0. & 0.\\\\ 0. & 0. & 0. & 0. & 0. & 1.\\end{bmatrix}\\end{align}$"
      ],
      "text/plain": [
       "<IPython.core.display.Math object>"
      ]
     },
     "metadata": {},
     "output_type": "display_data"
    }
   ],
   "source": [
    "from IPython.display import display, Math, HTML\n",
    "import numpy as np\n",
    "\n",
    "def mat2latex(m,name,special_format=False, sf='2f'):\n",
    "    np.set_printoptions(suppress=True)\n",
    "    start = r'\\begin{align}\\quad\\boldsymbol %s=\\begin{bmatrix}' % name\n",
    "    end = '\\end{bmatrix}\\end{align}'\n",
    "    if special_format:\n",
    "        string = \"%%.%s\" % sf\n",
    "        ff = {'float_kind':lambda x: string % x}\n",
    "    else:\n",
    "        ff = None\n",
    "    mid = ('\\\\\\\\').join(np.array2string(m,separator=' &',suppress_small=True,formatter=ff).strip('[[]]').split('] &\\n ['))\n",
    "    display(Math(start+mid+end))\n",
    "\n",
    "show_hide_link()\n",
    "\n",
    "T = np.array([[np.cos(BetaR), np.sin(BetaR), 0,0,0,0], [-np.sin(BetaR), np.cos(BetaR), 0,0,0,0], [ 0, 0, 1,0,0,0],\n",
    "              [0,0,0,np.cos(BetaR), np.sin(BetaR), 0], [0,0,0,-np.sin(BetaR), np.cos(BetaR), 0], [ 0,0,0,0, 0, 1]])\n",
    "   \n",
    "mat2latex(T,'T')\n",
    "\n",
    "           "
   ]
  },
  {
   "cell_type": "markdown",
   "metadata": {},
   "source": [
    "Por fim, a célula final apresenta uma comparação entre a matriz de rigidez deste elemento para os sistemas local e global. Nela, é possível ver as diferenças que surgem com a simples mudança de orientação do elemento. Um exemplo bastante interessante refere-se a comparar os casos de $\\beta=0$ e $\\beta=90$. Nestes casos, percebe-se que o que acaba ocorrendo é uma troca entre os termos de rigidez dos graus de liberdade horizontais com os verticais."
   ]
  },
  {
   "cell_type": "code",
   "execution_count": 5,
   "metadata": {
    "hide_input": true,
    "scrolled": true
   },
   "outputs": [
    {
     "data": {
      "text/html": [
       "<script>\n",
       "    code_show=true; \n",
       "    function code_toggle() {\n",
       "        if (code_show){\n",
       "            $('div.cell.code_cell.rendered.selected div.input').hide();\n",
       "        } else {\n",
       "            $('div.cell.code_cell.rendered.selected div.input').show();\n",
       "        }\n",
       "        code_show = !code_show\n",
       "    } \n",
       "    $( document ).ready(code_toggle);\n",
       "    </script>\n",
       "    To show/hide this cell's raw code input, click <a href=\"javascript:code_toggle()\">here</a>."
      ],
      "text/plain": [
       "<IPython.core.display.HTML object>"
      ]
     },
     "metadata": {},
     "output_type": "display_data"
    },
    {
     "data": {
      "text/latex": [
       "$\\displaystyle \\begin{align}\\quad\\boldsymbol k_e=\\begin{bmatrix}1000000000 &0 &0 &-1000000000 &0 &0\\\\0 &60000 &300000 &0 &-60000 &300000\\\\0 &300000 &2000000 &0 &-300000 &1000000\\\\-1000000000 &0 &0 &1000000000 &0 &0\\\\0 &-60000 &-300000 &0 &60000 &-300000\\\\0 &300000 &1000000 &0 &-300000 &2000000\\end{bmatrix}\\end{align}$"
      ],
      "text/plain": [
       "<IPython.core.display.Math object>"
      ]
     },
     "metadata": {},
     "output_type": "display_data"
    },
    {
     "data": {
      "text/latex": [
       "$\\displaystyle \\begin{align}\\quad\\boldsymbol k_g=\\begin{bmatrix}60000 &0 &-300000 &-60000 &-0 &-300000\\\\0 &1000000000 &0 &-0 &-1000000000 &0\\\\-300000 &0 &2000000 &300000 &-0 &1000000\\\\-60000 &-0 &300000 &60000 &0 &300000\\\\-0 &-1000000000 &-0 &0 &1000000000 &-0\\\\-300000 &0 &1000000 &300000 &-0 &2000000\\end{bmatrix}\\end{align}$"
      ],
      "text/plain": [
       "<IPython.core.display.Math object>"
      ]
     },
     "metadata": {},
     "output_type": "display_data"
    }
   ],
   "source": [
    "from IPython.display import HTML\n",
    "from IPython.display import display\n",
    "\n",
    "\n",
    "show_hide_link()\n",
    "\n",
    "ke = np.array([[E*A/L,0,0,-E*A/L,0,0], [0, 12*E*I/(L**3), 6*E*I/(L**2),0,-12*E*I/(L**3),6*E*I/(L**2)],\n",
    "                   [ 0,6*E*I/(L**2), 4*E*I/L,0,-6*E*I/(L**2),2*E*I/L],[-E*A/L,0,0,E*A/L, 0, 0], \n",
    "                   [0,-12*E*I/(L**3),-6*E*I/(L**2),0,12*E*I/(L**3),-6*E*I/(L**2)],\n",
    "                   [0,6*E*I/(L**2),2*E*I/L,0, -6*E*I/(L**2), 4*E*I/L]])\n",
    "\n",
    "mat2latex(ke,'k_e',1,'0f')\n",
    "\n",
    "kg = np.dot(np.matrix.transpose(T),np.dot(ke,T))\n",
    "\n",
    "mat2latex(kg,'k_g',1,'0f')"
   ]
  }
 ],
 "metadata": {
  "celltoolbar": "Slideshow",
  "kernelspec": {
   "display_name": "Python 3",
   "language": "python",
   "name": "python3"
  },
  "language_info": {
   "codemirror_mode": {
    "name": "ipython",
    "version": 3
   },
   "file_extension": ".py",
   "mimetype": "text/x-python",
   "name": "python",
   "nbconvert_exporter": "python",
   "pygments_lexer": "ipython3",
   "version": "3.7.3"
  }
 },
 "nbformat": 4,
 "nbformat_minor": 2
}
